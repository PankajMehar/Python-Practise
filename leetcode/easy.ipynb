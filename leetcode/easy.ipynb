{
 "cells": [
  {
   "cell_type": "markdown",
   "metadata": {},
   "source": [
    "https://leetcode.com/problemset/algorithms/?difficulty=Easy&status=Todo&listId=wpwgkgt"
   ]
  },
  {
   "cell_type": "code",
   "execution_count": 2,
   "metadata": {},
   "outputs": [
    {
     "data": {
      "text/plain": [
       "(0, 1)"
      ]
     },
     "execution_count": 2,
     "metadata": {},
     "output_type": "execute_result"
    }
   ],
   "source": [
    "# https://leetcode.com/problems/two-sum/description/\n",
    "nums = [2, 7, 11, 15]\n",
    "target = 9\n",
    "\n",
    "complement = []\n",
    "def two_sum(nums, target):\n",
    "    for i, x in enumerate(nums):\n",
    "        if x not in complement:\n",
    "            complement.append(target - x)\n",
    "        else:\n",
    "            return (complement.index(x), i)\n",
    "two_sum(nums, target)"
   ]
  },
  {
   "cell_type": "code",
   "execution_count": 19,
   "metadata": {},
   "outputs": [
    {
     "name": "stdout",
     "output_type": "stream",
     "text": [
      "321\n",
      "-321\n",
      "21\n"
     ]
    }
   ],
   "source": [
    "# https://leetcode.com/problems/reverse-integer/description/\n",
    "num1 = 123\n",
    "num2 = -123\n",
    "num3 = 120\n",
    "def reverse_interger(num):\n",
    "    str_num = str(num)\n",
    "    reverse_list = []\n",
    "    sign = ''\n",
    "    if str_num[0] in ('-','+'):\n",
    "        sign = str_num[0]\n",
    "        str_num = str_num[1:]\n",
    "    if str_num[-1] == 0:\n",
    "        str_num = str_num[:-1]\n",
    "    for char in str_num:\n",
    "        reverse_list.insert(0, char)\n",
    "    output = int(sign + ''.join(reverse_list))\n",
    "    if output > 2147483647 or output < -2147483648:\n",
    "        output = 0\n",
    "    return output\n",
    "print(reverse_interger(num1))\n",
    "print(reverse_interger(num2))\n",
    "print(reverse_interger(num3))"
   ]
  },
  {
   "cell_type": "code",
   "execution_count": 38,
   "metadata": {},
   "outputs": [
    {
     "name": "stdout",
     "output_type": "stream",
     "text": [
      "True\n",
      "False\n",
      "False\n",
      "here\n",
      "False\n"
     ]
    }
   ],
   "source": [
    "# https://leetcode.com/problems/valid-parentheses/description/\n",
    "s1 = \"()[]{}\"\n",
    "s2 = \"(]\"\n",
    "s3 = \"([)]\"\n",
    "s4 = \"()[]]\"\n",
    "def isValid(s):\n",
    "    stock = []\n",
    "    for char in s:\n",
    "        if char == '(':\n",
    "            stock.append(')')\n",
    "        elif char == '[':\n",
    "            stock.append(']')\n",
    "        elif char == '{':\n",
    "            stock.append('}')\n",
    "        elif char in ('}', ')', ']'):\n",
    "            try:\n",
    "                if stock.pop() != char:\n",
    "                    return False\n",
    "            except IndexError:\n",
    "                return False\n",
    "    if len(stock) > 0:\n",
    "        return False\n",
    "    return True\n",
    "print(isValid(s1))\n",
    "print(isValid(s2))\n",
    "print(isValid(s3))\n",
    "print(isValid(s4))"
   ]
  },
  {
   "cell_type": "code",
   "execution_count": 20,
   "metadata": {},
   "outputs": [
    {
     "name": "stdout",
     "output_type": "stream",
     "text": [
      "[1, 1, 2, 3, 4, 4, 5]\n",
      "[1, 3, 4, 5]\n",
      "[1, 3, 4, 5, 9, 10]\n",
      "[1, 3, 3, 3, 3, 3, 3, 3, 4, 5]\n"
     ]
    }
   ],
   "source": [
    "# https://leetcode.com/problems/merge-two-sorted-lists/\n",
    "def merge_two_lists(l1, l2):\n",
    "    l1_idx = 0\n",
    "    l2_idx = 0\n",
    "    output = []\n",
    "    l1_len = len(l1)\n",
    "    l2_len = len(l2)\n",
    "    while l1_idx < l1_len or l2_idx < l2_len:\n",
    "        if l1_idx == l1_len:\n",
    "            output.append(l2[l2_idx])\n",
    "            l2_idx +=1\n",
    "        elif l2_idx == l2_len:\n",
    "            output.append(l1[l1_idx])\n",
    "            l1_idx +=1\n",
    "        elif l1[l1_idx] < l2[l2_idx]:\n",
    "            output.append(l1[l1_idx])\n",
    "            l1_idx +=1\n",
    "        else:\n",
    "            output.append(l2[l2_idx])\n",
    "            l2_idx +=1\n",
    "    return output\n",
    "l1 = [1, 2, 4]\n",
    "l2 = [1, 3, 4, 5]\n",
    "print(merge_two_lists(l1, l2))\n",
    "l1 = []\n",
    "l2 = [1, 3, 4, 5]\n",
    "print(merge_two_lists(l1, l2))\n",
    "l1 = [9, 10]\n",
    "l2 = [1, 3, 4, 5]\n",
    "print(merge_two_lists(l1, l2))\n",
    "l1 = [3, 3,3,3,3,3]\n",
    "l2 = [1, 3, 4, 5]\n",
    "print(merge_two_lists(l1, l2))"
   ]
  },
  {
   "cell_type": "code",
   "execution_count": 2,
   "metadata": {},
   "outputs": [
    {
     "name": "stdout",
     "output_type": "stream",
     "text": [
      "6\n"
     ]
    }
   ],
   "source": [
    "# https://leetcode.com/problems/maximum-subarray/description/\n",
    "A = [-2,1,-3,4,-1,2,1,-5,4]\n",
    "def max_sub_array(A):\n",
    "    if not A:\n",
    "        return 0\n",
    "\n",
    "    curSum = maxSum = A[0]\n",
    "    for num in A[1:]:\n",
    "        curSum = max(num, curSum + num)\n",
    "        maxSum = max(maxSum, curSum)\n",
    "\n",
    "    return maxSum\n",
    "print(max_sub_array(A))"
   ]
  },
  {
   "cell_type": "code",
   "execution_count": 44,
   "metadata": {},
   "outputs": [
    {
     "name": "stdout",
     "output_type": "stream",
     "text": [
      "89\n",
      "89\n"
     ]
    }
   ],
   "source": [
    "# https://leetcode.com/problems/climbing-stairs/description/\n",
    "# brute force recursive version, poor performance\n",
    "def climb_stairs1(N):\n",
    "    if N > 2:\n",
    "        count = climb_stairs(N - 1) + climb_stairs(N - 2)\n",
    "    elif N == 1:\n",
    "        count = 1\n",
    "    elif N == 2:\n",
    "        count = 2\n",
    "    else:\n",
    "        count = 0\n",
    "    return count \n",
    "print(climb_stairs1(10))\n",
    "\n",
    "# dynamic programming\n",
    "def climb_stairs2(N):\n",
    "    if N == 1:\n",
    "        return 1\n",
    "    if N == 2:\n",
    "        return 2\n",
    "    # N >= 3\n",
    "    l = [0] * N\n",
    "    l[0] = 1\n",
    "    l[1] = 2\n",
    "    for i in range(2, N):\n",
    "        l[i] = l[i - 1] + l[i - 2]\n",
    "    return l[-1]\n",
    "print(climb_stairs2(10))"
   ]
  },
  {
   "cell_type": "code",
   "execution_count": 51,
   "metadata": {},
   "outputs": [
    {
     "name": "stdout",
     "output_type": "stream",
     "text": [
      "5\n"
     ]
    }
   ],
   "source": [
    "# https://leetcode.com/problems/single-number/description/\n",
    "nums = [1, 1, 2, 2, 3, 3, 5]\n",
    "def single_number(nums):\n",
    "    output = nums[0]\n",
    "    for i in range(1, len(nums)):\n",
    "        output ^= nums[i]\n",
    "    return output\n",
    "print(single_number(nums))"
   ]
  },
  {
   "cell_type": "code",
   "execution_count": 64,
   "metadata": {},
   "outputs": [],
   "source": [
    "# https://leetcode.com/problems/happy-number/description/\n",
    "def happy_number(num):\n",
    "    res_stock = []\n",
    "    while True:\n",
    "        print(num)\n",
    "        str_num = str(num)\n",
    "        num = 0\n",
    "        for x in str_num:\n",
    "            num += int(x) ** 2\n",
    "        if num in res_stock:\n",
    "            return False\n",
    "        elif num == 1:\n",
    "            return True\n",
    "        else:\n",
    "            res_stock.append(num)"
   ]
  },
  {
   "cell_type": "code",
   "execution_count": 66,
   "metadata": {},
   "outputs": [
    {
     "name": "stdout",
     "output_type": "stream",
     "text": [
      "19\n",
      "82\n",
      "68\n",
      "100\n"
     ]
    },
    {
     "data": {
      "text/plain": [
       "True"
      ]
     },
     "execution_count": 66,
     "metadata": {},
     "output_type": "execute_result"
    }
   ],
   "source": [
    "happy_number(19)"
   ]
  },
  {
   "cell_type": "code",
   "execution_count": 128,
   "metadata": {},
   "outputs": [],
   "source": [
    "# https://leetcode.com/problems/convert-sorted-array-to-binary-search-tree/description/\n",
    "from math import ceil\n",
    "def sorted_array_to_BST(L):\n",
    "    res = []\n",
    "    helper([L], res)\n",
    "    print(res)\n",
    "    while len(res) > 0 and res[-1] is None:\n",
    "        res = res[:-1]\n",
    "    return res\n",
    "def helper(L, res):\n",
    "    new_L = []\n",
    "    recursion = False\n",
    "    for l in L:\n",
    "        length = len(l)\n",
    "        if length > 0:\n",
    "            middle = ceil((length + 1) / 2) - 1\n",
    "            res.append(l[middle])\n",
    "            new_L.append(l[:middle])\n",
    "            new_L.append(l[middle + 1:])\n",
    "            recursion = True\n",
    "        else:\n",
    "            res.append(None)\n",
    "    if recursion:\n",
    "        helper(new_L, res)"
   ]
  },
  {
   "cell_type": "code",
   "execution_count": 129,
   "metadata": {},
   "outputs": [
    {
     "name": "stdout",
     "output_type": "stream",
     "text": [
      "[0, -3, 9, -10, None, 5, None, None, None, None, None]\n",
      "[0, -3, 9, -10, None, 5]\n",
      "[None]\n",
      "[]\n"
     ]
    }
   ],
   "source": [
    "print(sorted_array_to_BST([-10,-3,0,5,9]))\n",
    "print(sorted_array_to_BST([]))"
   ]
  },
  {
   "cell_type": "code",
   "execution_count": 2,
   "metadata": {},
   "outputs": [
    {
     "name": "stdout",
     "output_type": "stream",
     "text": [
      "['test', 'test', 'test', 'test', 'test', 'test', 'test', 'test', 'test', 'test']\n"
     ]
    }
   ],
   "source": [
    "\"\"\"\n",
    "sanity check list behavior in recursion\n",
    "\"\"\"\n",
    "def recur_func(L):\n",
    "    if len(L) < 10:\n",
    "        L.append(\"test\")\n",
    "        recur_func(L)\n",
    "L = []\n",
    "recur_func(L)\n",
    "print(L)"
   ]
  },
  {
   "cell_type": "code",
   "execution_count": 27,
   "metadata": {},
   "outputs": [
    {
     "name": "stdout",
     "output_type": "stream",
     "text": [
      "True\n",
      "False\n",
      "True\n"
     ]
    }
   ],
   "source": [
    "# https://leetcode.com/problems/valid-anagram/description/\n",
    "def valid_anagram(s, t):\n",
    "    d = {}\n",
    "    for x in s:\n",
    "        if d.get(x) is None:\n",
    "            d[x] = 1\n",
    "        else:\n",
    "            d[x] += 1\n",
    "    for x in t:\n",
    "        if d.get(x) is None or d[x] == 0:\n",
    "            return False\n",
    "        elif d[x] == 1:\n",
    "            d.pop(x)\n",
    "        else:\n",
    "            d[x] -= 1\n",
    "    if len(d) == 0:\n",
    "        return True\n",
    "    else:\n",
    "        return False\n",
    "\n",
    "s = \"anagram\"\n",
    "t = \"nagaram\"\n",
    "print(valid_anagram(s, t))\n",
    "s = \"rat\"\n",
    "t = \"car\"\n",
    "print(valid_anagram(s, t))\n",
    "s = \"abbdc\"\n",
    "t = \"abbcd\"\n",
    "print(valid_anagram(s, t))"
   ]
  },
  {
   "cell_type": "code",
   "execution_count": 34,
   "metadata": {},
   "outputs": [
    {
     "data": {
      "text/plain": [
       "23"
      ]
     },
     "execution_count": 34,
     "metadata": {},
     "output_type": "execute_result"
    }
   ],
   "source": [
    "# https://leetcode.com/problems/house-robber/description/\n",
    "\"\"\"\n",
    "f(0) = nums[0]\n",
    "f(1) = max(num[0], num[1])\n",
    "f(k) = max(f(k-2) + nums[k], f(k-1) )\n",
    "\"\"\"\n",
    "def house_robber(nums):\n",
    "    last, now = 0, 0\n",
    "    for i in nums:\n",
    "        last, now = now, max(last + i, now)\n",
    "    return now\n",
    "nums = [10, 3, 8, 4, 1, 3, 1, 2]\n",
    "house_robber(nums)"
   ]
  },
  {
   "cell_type": "code",
   "execution_count": 1,
   "metadata": {},
   "outputs": [],
   "source": [
    "# https://leetcode.com/problems/pascals-triangle/description/\n",
    "def pascals_triangle():\n",
    "    "
   ]
  },
  {
   "cell_type": "code",
   "execution_count": 2,
   "metadata": {},
   "outputs": [],
   "source": [
    "a = [\n",
    "     [1],\n",
    "    [1,1],\n",
    "   [1,2,1],\n",
    "  [1,3,3,1],\n",
    " [1,4,6,4,1]\n",
    "]"
   ]
  },
  {
   "cell_type": "code",
   "execution_count": 3,
   "metadata": {},
   "outputs": [
    {
     "data": {
      "text/plain": [
       "[[1], [1, 1], [1, 2, 1], [1, 3, 3, 1], [1, 4, 6, 4, 1]]"
      ]
     },
     "execution_count": 3,
     "metadata": {},
     "output_type": "execute_result"
    }
   ],
   "source": [
    "a"
   ]
  },
  {
   "cell_type": "code",
   "execution_count": 14,
   "metadata": {},
   "outputs": [
    {
     "data": {
      "text/plain": [
       "[[1], [1, 1], [1, 2, 1], [1, 3, 3, 1], [1, 4, 6, 4, 1], [1, 5, 10, 10, 5, 1]]"
      ]
     },
     "execution_count": 14,
     "metadata": {},
     "output_type": "execute_result"
    }
   ],
   "source": [
    "def pascals_triangle(n):\n",
    "    L = []\n",
    "    if n == 0:\n",
    "        return L\n",
    "    line1 = [1]\n",
    "    L.append(line1)\n",
    "    if n == 1:\n",
    "        return L\n",
    "    line2 = [1, 1]\n",
    "    L.append(line2)\n",
    "    if n == 2:\n",
    "        return L\n",
    "    for i in range(3, n + 1):\n",
    "        new_line = [1]\n",
    "        prev = L[-1][0]\n",
    "        for x in L[-1][1:]:\n",
    "            new_line.append(x + prev)\n",
    "            prev = x\n",
    "        new_line.append(1)\n",
    "        L.append(new_line)\n",
    "    return L\n",
    "pascals_triangle(6)"
   ]
  },
  {
   "cell_type": "code",
   "execution_count": null,
   "metadata": {},
   "outputs": [],
   "source": []
  }
 ],
 "metadata": {
  "kernelspec": {
   "display_name": "Python [default]",
   "language": "python",
   "name": "python3"
  },
  "language_info": {
   "codemirror_mode": {
    "name": "ipython",
    "version": 3
   },
   "file_extension": ".py",
   "mimetype": "text/x-python",
   "name": "python",
   "nbconvert_exporter": "python",
   "pygments_lexer": "ipython3",
   "version": "3.6.1"
  }
 },
 "nbformat": 4,
 "nbformat_minor": 2
}
