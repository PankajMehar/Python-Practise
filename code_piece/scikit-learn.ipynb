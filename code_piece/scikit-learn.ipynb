{
 "cells": [
  {
   "cell_type": "markdown",
   "metadata": {},
   "source": [
    "- http://scikit-learn.org/stable/\n",
    "- http://sklearn.apachecn.org/cn/0.19.0/"
   ]
  },
  {
   "cell_type": "markdown",
   "metadata": {},
   "source": [
    "### K-means\n",
    "\n",
    "**reference**: \n",
    "- explaining by Andrew Ng: https://www.youtube.com/watch?v=hDmNF9JG3lo\n",
    "- sklearn API: http://scikit-learn.org/stable/modules/generated/sklearn.cluster.KMeans.html#sklearn.cluster.KMeans\n",
    "\n",
    "**optimization target**: minimize the SSE (sum of squared errors)\n",
    "\n",
    "![kmeans-optimization-target](assets/kmeans-optimization-target.png)\n",
    "\n",
    "**pseudo code**:\n",
    "```\n",
    "randomly initialize cluster centroids \n",
    "while any cluster centroids moved:\n",
    "    1. cluster assignment: clustering all data points to centroids based on the L2(convensionly) distance\n",
    "    2. centroids update: move centroids to the cluster's center (average of the class group data)\n",
    "```\n",
    "\n",
    "**key points**\n",
    "- solved by Lloyd’s algorithm, average complexity is given by O(k n T), were n is the number of samples and T is the number of iteration.\n",
    "- In practice, the k-means algorithm is very fast (one of the fastest clustering algorithms available)\n",
    "- k-means possibly falls in local minima. That’s why it can be useful to restart it several times.\n",
    "- It responds poorly to elongated clusters, or manifolds with irregular shapes\n",
    "- Running a dimensionality reduction algorithm such as PCA prior to k-means clustering can alleviate this problem and speed up the computations\n",
    "- there are several choice to initialize centroids"
   ]
  },
  {
   "cell_type": "code",
   "execution_count": 9,
   "metadata": {},
   "outputs": [
    {
     "name": "stdout",
     "output_type": "stream",
     "text": [
      "[0 0 0 1 1 1]\n",
      "[0 1]\n",
      "[[ 1.  2.]\n",
      " [ 4.  2.]]\n"
     ]
    }
   ],
   "source": [
    "# toy example\n",
    "from sklearn.cluster import KMeans\n",
    "import numpy as np\n",
    "X = np.array([[1, 2], [1, 4], [1, 0], [4, 2], [4, 4], [4, 0]])\n",
    "kmeans = KMeans(n_clusters=2, random_state=0).fit(X)\n",
    "print(kmeans.labels_)\n",
    "print(kmeans.predict([[0, 0], [4, 4]]))\n",
    "print(kmeans.cluster_centers_)"
   ]
  },
  {
   "cell_type": "markdown",
   "metadata": {},
   "source": [
    "### PCA"
   ]
  },
  {
   "cell_type": "code",
   "execution_count": 11,
   "metadata": {},
   "outputs": [],
   "source": [
    "from sklearn.decomposition import PCA"
   ]
  },
  {
   "cell_type": "markdown",
   "metadata": {},
   "source": [
    "### Decision Trees"
   ]
  },
  {
   "cell_type": "markdown",
   "metadata": {},
   "source": [
    "### SVM"
   ]
  },
  {
   "cell_type": "markdown",
   "metadata": {},
   "source": [
    "### KNN"
   ]
  },
  {
   "cell_type": "code",
   "execution_count": null,
   "metadata": {},
   "outputs": [],
   "source": []
  }
 ],
 "metadata": {
  "kernelspec": {
   "display_name": "Python [default]",
   "language": "python",
   "name": "python3"
  },
  "language_info": {
   "codemirror_mode": {
    "name": "ipython",
    "version": 3
   },
   "file_extension": ".py",
   "mimetype": "text/x-python",
   "name": "python",
   "nbconvert_exporter": "python",
   "pygments_lexer": "ipython3",
   "version": "3.6.1"
  }
 },
 "nbformat": 4,
 "nbformat_minor": 2
}
