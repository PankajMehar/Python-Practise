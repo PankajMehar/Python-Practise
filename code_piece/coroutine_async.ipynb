{
 "cells": [
  {
   "cell_type": "markdown",
   "metadata": {},
   "source": [
    "**Coroutine**: Coroutines is a more generalized form of subroutines. Subroutines are entered at one point and exited at another point. Coroutines can be entered, exited, and resumed at many different points.\n",
    "\n",
    "**coroutine function**: A function which returns a coroutine object. A coroutine function may be defined with the async def statement, and may contain await, async for, and async with keywords."
   ]
  },
  {
   "cell_type": "markdown",
   "metadata": {},
   "source": [
    "### Reference\n",
    "- python中多进程+协程的使用以及为什么要用它: https://blog.csdn.net/lambert310/article/details/51162634\n",
    "- 谈谈Python协程技术的演进: https://zhuanlan.zhihu.com/p/30275154\n",
    "- PEP 492 -- Coroutines with async and await syntax: https://www.python.org/dev/peps/pep-0492/\n",
    "- coroutine syntax: https://docs.python.org/3/reference/compound_stmts.html#coroutines\n",
    "- 异步IO:https://www.liaoxuefeng.com/wiki/0014316089557264a6b348958f449949df42a6d3a2e542c000/00143208573480558080fa77514407cb23834c78c6c7309000"
   ]
  },
  {
   "cell_type": "code",
   "execution_count": 2,
   "metadata": {},
   "outputs": [
    {
     "name": "stdout",
     "output_type": "stream",
     "text": [
      "[PRODUCER] Producing 1...\n",
      "[CONSUMER] Consuming 1...\n",
      "[PRODUCER] Consumer return: 200 OK\n",
      "[PRODUCER] Producing 2...\n",
      "[CONSUMER] Consuming 2...\n",
      "[PRODUCER] Consumer return: 200 OK\n",
      "[PRODUCER] Producing 3...\n",
      "[CONSUMER] Consuming 3...\n",
      "[PRODUCER] Consumer return: 200 OK\n",
      "[PRODUCER] Producing 4...\n",
      "[CONSUMER] Consuming 4...\n",
      "[PRODUCER] Consumer return: 200 OK\n",
      "[PRODUCER] Producing 5...\n",
      "[CONSUMER] Consuming 5...\n",
      "[PRODUCER] Consumer return: 200 OK\n"
     ]
    }
   ],
   "source": [
    "from time import sleep\n",
    "\n",
    "def consumer():\n",
    "    r = '200 OK'\n",
    "    while True:\n",
    "        n = yield r\n",
    "        print('[CONSUMER] Consuming %s...' % n)\n",
    "\n",
    "# producer\n",
    "c = consumer()\n",
    "c.send(None)\n",
    "for n in range(1, 6):\n",
    "    print('[PRODUCER] Producing %s...' % n)\n",
    "    r = c.send(n)\n",
    "    print('[PRODUCER] Consumer return: %s' % r)\n",
    "c.close()\n"
   ]
  },
  {
   "cell_type": "code",
   "execution_count": 1,
   "metadata": {},
   "outputs": [
    {
     "name": "stdout",
     "output_type": "stream",
     "text": [
      "Hello world3 @<_MainThread(MainThread, started 140736203305792)>\n",
      "3 is sleeping\n",
      "Hello world1 @<_MainThread(MainThread, started 140736203305792)>\n",
      "1 is sleeping\n",
      "Hello world2 @<_MainThread(MainThread, started 140736203305792)>\n",
      "2 is sleeping\n",
      "Hello world4 @<_MainThread(MainThread, started 140736203305792)>\n",
      "4 is sleeping\n",
      "Hello again3 @<_MainThread(MainThread, started 140736203305792)>\n",
      "Hello again1 @<_MainThread(MainThread, started 140736203305792)>\n",
      "Hello again2 @<_MainThread(MainThread, started 140736203305792)>\n",
      "Hello again4 @<_MainThread(MainThread, started 140736203305792)>\n"
     ]
    }
   ],
   "source": [
    "import threading\n",
    "import asyncio\n",
    "from time import sleep\n",
    "\n",
    "async def slp(t):\n",
    "    sleep(t)\n",
    "    \n",
    "async def hello(para):\n",
    "    print('Hello world{} @{}'.format(para, threading.currentThread()))\n",
    "    print(\"{} is sleeping\".format(para))\n",
    "    await asyncio.sleep(1)\n",
    "    print('Hello again{} @{}'.format(para, threading.currentThread()))\n",
    "\n",
    "loop = asyncio.get_event_loop()\n",
    "tasks = [hello(1), hello(2), hello(3), hello(4)]\n",
    "loop.run_until_complete(asyncio.wait(tasks))\n",
    "loop.close()"
   ]
  },
  {
   "cell_type": "code",
   "execution_count": 3,
   "metadata": {},
   "outputs": [],
   "source": [
    "# ERVPLXUWTZQGLDFJVKQGIFZ"
   ]
  },
  {
   "cell_type": "code",
   "execution_count": null,
   "metadata": {},
   "outputs": [],
   "source": []
  }
 ],
 "metadata": {
  "kernelspec": {
   "display_name": "Python [default]",
   "language": "python",
   "name": "python3"
  },
  "language_info": {
   "codemirror_mode": {
    "name": "ipython",
    "version": 3
   },
   "file_extension": ".py",
   "mimetype": "text/x-python",
   "name": "python",
   "nbconvert_exporter": "python",
   "pygments_lexer": "ipython3",
   "version": "3.6.1"
  }
 },
 "nbformat": 4,
 "nbformat_minor": 2
}
