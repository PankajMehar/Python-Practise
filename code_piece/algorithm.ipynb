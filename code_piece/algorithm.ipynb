{
 "cells": [
  {
   "cell_type": "markdown",
   "metadata": {},
   "source": [
    "### Binary Search:\n",
    "- https://www.geeksforgeeks.org/binary-search/\n",
    "- O(Log n)\n",
    "\n",
    "![binary search](assets/binary-search.png)"
   ]
  },
  {
   "cell_type": "code",
   "execution_count": 1,
   "metadata": {},
   "outputs": [
    {
     "name": "stdout",
     "output_type": "stream",
     "text": [
      "5\n"
     ]
    }
   ],
   "source": [
    "l = [2, 5, 8, 12, 16, 23, 38, 56, 72, 91]\n",
    "x = 23\n",
    "def bs(start, end):\n",
    "    pos = (start + end) // 2\n",
    "    if l[pos] > x :\n",
    "        res = bs(start, pos - 1)\n",
    "    elif l[pos] < x :\n",
    "        res = bs(pos + 1, end)\n",
    "    else:\n",
    "        res = pos\n",
    "    return res\n",
    "print(bs(0, len(l) -1 ))"
   ]
  },
  {
   "cell_type": "markdown",
   "metadata": {},
   "source": [
    "### DFS & BFS\n",
    "\n",
    "DFS\n",
    "\n",
    "- https://www.geeksforgeeks.org/depth-first-traversal-for-a-graph/\n",
    "- cost less space\n",
    "- hard to find shortest path\n",
    "\n",
    "BFS\n",
    "\n",
    "- https://www.geeksforgeeks.org/breadth-first-traversal-for-a-graph/\n",
    "- cost more space\n",
    "- easy to find shortest path\n",
    "\n",
    "![dfs-bfs](assets/dfs-bfs.gif)\n",
    "\n",
    "![sample](assets/DAG.png)"
   ]
  },
  {
   "cell_type": "code",
   "execution_count": 2,
   "metadata": {},
   "outputs": [],
   "source": [
    "# sample graph from: http://eddmann.com/posts/depth-first-search-and-breadth-first-search-in-python/\n",
    "graph = {'A': set(['B', 'C']),\n",
    "         'B': set(['A', 'D', 'E']),\n",
    "         'C': set(['A', 'F']),\n",
    "         'D': set(['B']),\n",
    "         'E': set(['B', 'F']),\n",
    "         'F': set(['C', 'E'])}"
   ]
  },
  {
   "cell_type": "code",
   "execution_count": 5,
   "metadata": {},
   "outputs": [
    {
     "name": "stdout",
     "output_type": "stream",
     "text": [
      "start at D, existing path is ['D'], next nodes are {'B'}\n",
      "start at B, existing path is ['D', 'B'], next nodes are {'D', 'E', 'A'}\n",
      "['D', 'B', 'E']\n",
      "start at A, existing path is ['D', 'B', 'A'], next nodes are {'B', 'C'}\n",
      "start at C, existing path is ['D', 'B', 'A', 'C'], next nodes are {'F', 'A'}\n",
      "start at F, existing path is ['D', 'B', 'A', 'C', 'F'], next nodes are {'E', 'C'}\n",
      "['D', 'B', 'A', 'C', 'F', 'E']\n"
     ]
    }
   ],
   "source": [
    "def DFS(start_node, expect_node, path):\n",
    "    print(\"start at {}, existing path is {}, next nodes are {}\".format(start_node, path, graph[start_node]))\n",
    "    for node in graph[start_node]:\n",
    "        new_path = path.copy()\n",
    "        if node not in path:\n",
    "            new_path.append(node)\n",
    "            if node != expect_node:\n",
    "                DFS(node, expect_node, new_path)\n",
    "            else:\n",
    "                print(new_path)\n",
    "DFS('D', 'E', ['D'])"
   ]
  },
  {
   "cell_type": "code",
   "execution_count": 3,
   "metadata": {},
   "outputs": [
    {
     "name": "stdout",
     "output_type": "stream",
     "text": [
      "current nodes are: ['D']\n",
      "current nodes are: ['B']\n",
      "current nodes are: ['E', 'A']\n",
      "found\n"
     ]
    }
   ],
   "source": [
    "def BFS(start_nodes, expect_node, searched_nodes):\n",
    "    print(\"current nodes are: {}\".format(start_nodes))\n",
    "    new_start_nodes = []\n",
    "    found = False\n",
    "    for each in start_nodes:\n",
    "        for node in graph[each]:\n",
    "            if node not in searched_nodes:\n",
    "                searched_nodes.add(node)\n",
    "                if node != expect_node:\n",
    "                    new_start_nodes.append(node)\n",
    "                else:\n",
    "                    print(\"found\")\n",
    "                    found = True\n",
    "    if not found:\n",
    "        BFS(new_start_nodes, expect_node, searched_nodes)\n",
    "BFS(['D'], 'F', set(['D']))"
   ]
  },
  {
   "cell_type": "code",
   "execution_count": 78,
   "metadata": {},
   "outputs": [
    {
     "name": "stdout",
     "output_type": "stream",
     "text": [
      "[5, 1, 4, 2, 8, 10, 2, 8, 1, 100, 102, 1, 0, 0, 18]\n",
      "[1, 4, 2, 5, 8, 2, 8, 1, 10, 100, 1, 0, 0, 18, 102]\n",
      "[1, 2, 4, 5, 2, 8, 1, 8, 10, 1, 0, 0, 18, 100, 102]\n",
      "[1, 2, 4, 2, 5, 1, 8, 8, 1, 0, 0, 10, 18, 100, 102]\n",
      "[1, 2, 2, 4, 1, 5, 8, 1, 0, 0, 8, 10, 18, 100, 102]\n",
      "[1, 2, 2, 1, 4, 5, 1, 0, 0, 8, 8, 10, 18, 100, 102]\n",
      "[1, 2, 1, 2, 4, 1, 0, 0, 5, 8, 8, 10, 18, 100, 102]\n",
      "[1, 1, 2, 2, 1, 0, 0, 4, 5, 8, 8, 10, 18, 100, 102]\n",
      "[1, 1, 2, 1, 0, 0, 2, 4, 5, 8, 8, 10, 18, 100, 102]\n",
      "[1, 1, 1, 0, 0, 2, 2, 4, 5, 8, 8, 10, 18, 100, 102]\n",
      "[1, 1, 0, 0, 1, 2, 2, 4, 5, 8, 8, 10, 18, 100, 102]\n",
      "[1, 0, 0, 1, 1, 2, 2, 4, 5, 8, 8, 10, 18, 100, 102]\n",
      "[0, 0, 1, 1, 1, 2, 2, 4, 5, 8, 8, 10, 18, 100, 102]\n"
     ]
    },
    {
     "data": {
      "text/plain": [
       "[0, 0, 1, 1, 1, 2, 2, 4, 5, 8, 8, 10, 18, 100, 102]"
      ]
     },
     "execution_count": 78,
     "metadata": {},
     "output_type": "execute_result"
    }
   ],
   "source": [
    "l = [5, 1, 4, 2, 8, 10, 2, 8,1, 100, 102, 1, 0 , 0 , 18]\n",
    "def bubble_sort():\n",
    "    sorted = False\n",
    "    while not sorted:\n",
    "        print(l)\n",
    "        sorted = True\n",
    "        for i in range(len(l)):\n",
    "            if i > 0 :\n",
    "                if l[i] < l[i-1]:\n",
    "                    sorted = False\n",
    "                    # swap\n",
    "                    l[i-1], l[i] = l[i], l[i-1]\n",
    "bubble_sort()\n",
    "l"
   ]
  },
  {
   "cell_type": "markdown",
   "metadata": {},
   "source": [
    "### Merge Sort\n",
    "\n",
    "- https://www.geeksforgeeks.org/merge-sort/\n",
    "- worst case time complexity: O(nLogn)\n",
    "- space complexity: O(n)\n",
    "- Stable: Yes\n",
    "- merge sort is generally considered better when data is huge and stored in external storage\n",
    "\n",
    "![Merge Sort](assets/Merge-Sort.png)\n",
    "![Merge Sort](assets/merging.gif)"
   ]
  },
  {
   "cell_type": "code",
   "execution_count": 37,
   "metadata": {},
   "outputs": [
    {
     "name": "stdout",
     "output_type": "stream",
     "text": [
      "the array before sorting is [38, 27, 43, 3, 9, 82, 10]\n",
      "[38, 27, 43, 3, 9, 82, 10]\n",
      "[38, 27, 43, 3, 9, 82, 10]\n",
      "[38, 27, 43, 3, 9, 82, 10]\n",
      "[27, 38, 43, 3, 9, 82, 10]\n",
      "[3, 27, 38, 43, 9, 82, 10]\n",
      "[3, 27, 38, 43, 9, 82, 10]\n",
      "the array after sorting is [3, 9, 10, 27, 38, 43, 82]\n"
     ]
    }
   ],
   "source": [
    "arr = [38, 27, 43, 3, 9, 82, 10]\n",
    "def merge_sort(l, r, arr):\n",
    "    if l < r:\n",
    "        print(arr)\n",
    "        m = (l + r) // 2\n",
    "        merge_sort(l, m, arr)\n",
    "        merge_sort(m + 1 , r, arr)\n",
    "        # merging\n",
    "        left = arr[l : m+1]\n",
    "        right = arr[m+1: r+1]\n",
    "        i = 0\n",
    "        j = 0\n",
    "        k = l\n",
    "        # merging\n",
    "        while i < m -l + 1 and j < r - m:\n",
    "            if left[i] <= right[j]:\n",
    "                arr[k] = left[i]\n",
    "                i += 1\n",
    "            else:\n",
    "                arr[k] = right[j]\n",
    "                j += 1\n",
    "            k += 1\n",
    "        while i < m -l + 1:\n",
    "            arr[k] = left[i]\n",
    "            i += 1\n",
    "            k += 1\n",
    "        while j < r - m:\n",
    "            arr[k] = right[j]\n",
    "            j += 1\n",
    "            k += 1\n",
    "print(\"the array before sorting is {}\".format(arr))\n",
    "merge_sort(0, len(arr) - 1, arr)\n",
    "print(\"the array after sorting is {}\".format(arr))"
   ]
  },
  {
   "cell_type": "markdown",
   "metadata": {},
   "source": [
    "### Quick Sort\n",
    "\n",
    "- https://www.geeksforgeeks.org/quick-sort/\n",
    "- worse case time complexity is O(n^2)\n",
    "- QuickSort is **faster in practice**, because its inner loop can be efficiently implemented on most architectures, and in most real-world data\n",
    "\n",
    "![Merge Sort](assets/quicksort.gif)\n",
    "![quicksort partition](assets/quicksort-partition.png)"
   ]
  },
  {
   "cell_type": "code",
   "execution_count": 74,
   "metadata": {},
   "outputs": [
    {
     "name": "stdout",
     "output_type": "stream",
     "text": [
      "the array before sorting is [10, 80, 30, 90, 40, 50, 70]\n",
      "the array after sorting is [10, 30, 40, 50, 70, 80, 90]\n"
     ]
    }
   ],
   "source": [
    "arr = [10, 80, 30, 90, 40, 50, 70]\n",
    "def partition(low, high, arr):\n",
    "    pivot = arr[high]\n",
    "    i = low -1 # index of smaller element\n",
    "    for j in range(low, high):\n",
    "        if arr[j] <= pivot:\n",
    "            i += 1\n",
    "            # swap smaller element\n",
    "            arr[i], arr[j] = arr[j], arr[i]\n",
    "    # swap pivot\n",
    "    arr[high], arr[i+1] = arr[i+1], arr[high]\n",
    "    return i + 1\n",
    "def quick_sort(low, high, arr):\n",
    "    if low < high:\n",
    "        pivot_pos = partition(low, high, arr)\n",
    "        # smaller than pivot\n",
    "        quick_sort(low, pivot_pos - 1, arr)\n",
    "        # larger than pivot\n",
    "        quick_sort(pivot_pos + 1, high, arr)\n",
    "print(\"the array before sorting is {}\".format(arr))\n",
    "quick_sort(0, len(arr) - 1, arr)\n",
    "print(\"the array after sorting is {}\".format(arr))"
   ]
  },
  {
   "cell_type": "markdown",
   "metadata": {},
   "source": [
    "### Dynamic Programming | Longest Common Subsequence\n",
    "\n",
    "- https://www.geeksforgeeks.org/longest-common-subsequence/\n",
    "- http://www.csie.ntnu.edu.tw/~u91029/LongestCommonSubsequence.html#2\n",
    "\n",
    "![Merge Sort](assets/LCS.png)\n",
    "\n",
    "![Merge Sort](assets/LCS.gif)"
   ]
  },
  {
   "cell_type": "code",
   "execution_count": 69,
   "metadata": {},
   "outputs": [
    {
     "data": {
      "text/plain": [
       "4"
      ]
     },
     "execution_count": 69,
     "metadata": {},
     "output_type": "execute_result"
    }
   ],
   "source": [
    "str1 = \"GXTXAYB\"\n",
    "str2 = \"AGGTAB\"\n",
    "\n",
    "def lcs(str1, str2, m, n):\n",
    "    if m == 0 or n == 0:\n",
    "        return 0\n",
    "    elif str1[m - 1 ] == str2[n - 1]:\n",
    "        return lcs(str1, str2, m - 1 , n - 1) + 1\n",
    "    else:\n",
    "        return max(lcs(str1, str2, m, n - 1 ), lcs(str1, str2, m - 1 , n))\n",
    "    \n",
    "lcs(str1, str2, len(str1) , len(str2))"
   ]
  },
  {
   "cell_type": "code",
   "execution_count": null,
   "metadata": {},
   "outputs": [],
   "source": []
  }
 ],
 "metadata": {
  "kernelspec": {
   "display_name": "Python [default]",
   "language": "python",
   "name": "python3"
  },
  "language_info": {
   "codemirror_mode": {
    "name": "ipython",
    "version": 3
   },
   "file_extension": ".py",
   "mimetype": "text/x-python",
   "name": "python",
   "nbconvert_exporter": "python",
   "pygments_lexer": "ipython3",
   "version": "3.6.1"
  }
 },
 "nbformat": 4,
 "nbformat_minor": 2
}
