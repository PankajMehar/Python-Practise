{
 "cells": [
  {
   "cell_type": "markdown",
   "metadata": {},
   "source": [
    "- scipy.ndimage: https://docs.scipy.org/doc/scipy-0.14.0/reference/ndimage.html\n",
    "- scikit-image: http://scikit-image.org/docs/stable/\n",
    "- opencv: https://docs.opencv.org/3.3.1/index.html\n",
    "- PIL: http://pillow.readthedocs.io/en/latest/"
   ]
  },
  {
   "cell_type": "code",
   "execution_count": 49,
   "metadata": {},
   "outputs": [],
   "source": [
    "import numpy as np\n",
    "import cv2\n",
    "from matplotlib import pyplot as plt\n",
    "plt.rcParams[\"figure.figsize\"] = (20,5)\n",
    "import scipy.ndimage as ndi\n",
    "from skimage.io import imread\n",
    "import PIL"
   ]
  },
  {
   "cell_type": "code",
   "execution_count": 34,
   "metadata": {},
   "outputs": [],
   "source": [
    "img = \"assets/panda.jpg\""
   ]
  },
  {
   "cell_type": "code",
   "execution_count": 76,
   "metadata": {},
   "outputs": [],
   "source": [
    "# load image\n",
    "cv_arr = cv2.imread(img)\n",
    "skimage_arr = imread(img) # based on PIL\n",
    "scimg_arr = ndi.imread(img) # based on PIL\n",
    "pil_arr = PIL.Image.open(img)"
   ]
  },
  {
   "cell_type": "code",
   "execution_count": 77,
   "metadata": {},
   "outputs": [],
   "source": [
    "assert np.all(skimage_arr == scimg_arr)\n",
    "assert np.all(skimage_arr == pil_arr)"
   ]
  },
  {
   "cell_type": "markdown",
   "metadata": {},
   "source": [
    "### Watershed algorithm\n",
    "\n",
    "- step1: [represent the summary of euclidean distance to background](https://docs.scipy.org/doc/scipy-0.14.0/reference/generated/scipy.ndimage.morphology.distance_transform_edt.html#scipy.ndimage.morphology.distance_transform_edt)\n",
    "- step2: [extract the peak value, which is the local maxima in a particular region](http://scikit-image.org/docs/stable/api/skimage.feature.html#skimage.feature.peak_local_max)\n",
    "- step3: start from the lowest (-peak) value, based on the distance (gradient) to pull water till overflow, [scikit-image api](http://scikit-image.org/docs/stable/api/skimage.morphology.html#skimage.morphology.watershed)"
   ]
  },
  {
   "cell_type": "code",
   "execution_count": 98,
   "metadata": {},
   "outputs": [
    {
     "data": {
      "image/png": "[encoded data removed]",
      "text/plain": [
       "<matplotlib.figure.Figure at 0x121966b00>"
      ]
     },
     "metadata": {},
     "output_type": "display_data"
    }
   ],
   "source": [
    "# generate a binary image with two overlap cycle area\n",
    "x, y = np.indices((80, 80))\n",
    "x1, y1, x2, y2 = 28, 28, 44, 52\n",
    "r1, r2 = 16, 20\n",
    "mask_circle1 = (x - x1)**2 + (y - y1)**2 < r1**2\n",
    "mask_circle2 = (x - x2)**2 + (y - y2)**2 < r2**2\n",
    "image = np.logical_or(mask_circle1, mask_circle2)\n",
    "\n",
    "# step1\n",
    "from scipy import ndimage as ndi\n",
    "distance = ndi.distance_transform_edt(image)\n",
    "\n",
    "# step2\n",
    "from skimage.feature import peak_local_max\n",
    "local_maxi = peak_local_max(distance, labels=image,\n",
    "                            footprint=np.ones((3, 3)),\n",
    "                            indices=False)\n",
    "markers = ndi.label(local_maxi)[0]\n",
    "\n",
    "# step3\n",
    "labels = watershed(-distance, markers, mask=image)\n",
    "plt.imshow(np.concatenate((image, -distance, markers ,labels), axis=1))\n",
    "plt.show()"
   ]
  },
  {
   "cell_type": "markdown",
   "metadata": {},
   "source": [
    "### connection\n",
    "- scikit-image: http://scikit-image.org/docs/dev/api/skimage.morphology.html#label\n",
    "- opencv solution: https://stackoverflow.com/questions/35854197/how-to-use-opencvs-connected-components-with-stats-in-python\n",
    "- twp-pass algorith: http://aishack.in/tutorials/labelling-connected-components-example/"
   ]
  },
  {
   "cell_type": "code",
   "execution_count": 135,
   "metadata": {},
   "outputs": [
    {
     "data": {
      "image/png": "[encoded data removed]",
      "text/plain": [
       "<matplotlib.figure.Figure at 0x121ccb3c8>"
      ]
     },
     "metadata": {},
     "output_type": "display_data"
    }
   ],
   "source": [
    "from skimage.morphology import label\n",
    "img_arr = imread(\"assets/mask.png\")\n",
    "labels = label(img_arr, connectivity=1)\n",
    "plt.imshow(labels)\n",
    "plt.show()"
   ]
  },
  {
   "cell_type": "code",
   "execution_count": 136,
   "metadata": {},
   "outputs": [],
   "source": [
    "# https://stackoverflow.com/questions/27014207/failure-to-use-adaptivethreshold-cv-8uc1-in-function-adaptivethreshold\n",
    "src = cv2.imread('assets/mask.png', 0)\n",
    "# # src = src.astype(float)\n",
    "# # Threshold it so it becomes binary\n",
    "# ret, thresh = cv2.threshold(src,0,255,cv2.THRESH_BINARY+cv2.THRESH_OTSU)\n",
    "# # You need to choose 4 or 8 for connectivity type\n",
    "# connectivity = 4  \n",
    "# # Perform the operation\n",
    "# output = cv2.connectedComponentsWithStats(thresh, connectivity, cv2.CV_32S)\n",
    "# # Get the results\n",
    "# # The first cell is the number of labels\n",
    "# num_labels = output[0]\n",
    "# # The second cell is the label matrix\n",
    "# labels = output[1]\n",
    "# # The third cell is the stat matrix\n",
    "# stats = output[2]\n",
    "# # The fourth cell is the centroid matrix\n",
    "# centroids = output[3]"
   ]
  },
  {
   "cell_type": "code",
   "execution_count": 137,
   "metadata": {},
   "outputs": [
    {
     "data": {
      "image/png": "[encoded data removed]",
      "text/plain": [
       "<matplotlib.figure.Figure at 0x11bb20fd0>"
      ]
     },
     "metadata": {},
     "output_type": "display_data"
    }
   ],
   "source": [
    "plt.imshow(labels)\n",
    "plt.show()"
   ]
  },
  {
   "cell_type": "code",
   "execution_count": null,
   "metadata": {},
   "outputs": [],
   "source": []
  }
 ],
 "metadata": {
  "kernelspec": {
   "display_name": "Python 3",
   "language": "python",
   "name": "python3"
  },
  "language_info": {
   "codemirror_mode": {
    "name": "ipython",
    "version": 3
   },
   "file_extension": ".py",
   "mimetype": "text/x-python",
   "name": "python",
   "nbconvert_exporter": "python",
   "pygments_lexer": "ipython3",
   "version": "3.6.1"
  }
 },
 "nbformat": 4,
 "nbformat_minor": 2
}
